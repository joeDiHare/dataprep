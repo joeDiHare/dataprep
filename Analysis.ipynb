{
 "cells": [
  {
   "cell_type": "markdown",
   "metadata": {},
   "source": [
    "# Exploration code for the data challenge\n",
    "## Stefano Cosentino"
   ]
  },
  {
   "cell_type": "code",
   "execution_count": 1,
   "metadata": {
    "ExecuteTime": {
     "end_time": "2017-10-24T20:58:16.347783Z",
     "start_time": "2017-10-24T13:58:15.609623-07:00"
    }
   },
   "outputs": [],
   "source": [
    "import csv\n",
    "import numpy as np\n",
    "import pandas as pd\n",
    "\n",
    "import pylab\n",
    "from matplotlib import pyplot as plt\n",
    "%matplotlib inline\n",
    "\n",
    "# Import custom modules\n",
    "from dataprep.parse_input import *\n",
    "\n"
   ]
  },
  {
   "cell_type": "code",
   "execution_count": 2,
   "metadata": {
    "ExecuteTime": {
     "end_time": "2017-10-24T20:58:23.120607Z",
     "start_time": "2017-10-24T13:58:23.105061-07:00"
    }
   },
   "outputs": [
    {
     "data": {
      "text/html": [
       "<div>\n",
       "<style>\n",
       "    .dataframe thead tr:only-child th {\n",
       "        text-align: right;\n",
       "    }\n",
       "\n",
       "    .dataframe thead th {\n",
       "        text-align: left;\n",
       "    }\n",
       "\n",
       "    .dataframe tbody tr th {\n",
       "        vertical-align: top;\n",
       "    }\n",
       "</style>\n",
       "<table border=\"1\" class=\"dataframe\">\n",
       "  <thead>\n",
       "    <tr style=\"text-align: right;\">\n",
       "      <th></th>\n",
       "      <th>patient_id</th>\n",
       "      <th>original_id</th>\n",
       "    </tr>\n",
       "  </thead>\n",
       "  <tbody>\n",
       "    <tr>\n",
       "      <th>0</th>\n",
       "      <td>SCD0000101</td>\n",
       "      <td>SC-HF-I-1</td>\n",
       "    </tr>\n",
       "    <tr>\n",
       "      <th>1</th>\n",
       "      <td>SCD0000201</td>\n",
       "      <td>SC-HF-I-2</td>\n",
       "    </tr>\n",
       "    <tr>\n",
       "      <th>2</th>\n",
       "      <td>SCD0000301</td>\n",
       "      <td>SC-HF-I-4</td>\n",
       "    </tr>\n",
       "    <tr>\n",
       "      <th>3</th>\n",
       "      <td>SCD0000401</td>\n",
       "      <td>SC-HF-I-5</td>\n",
       "    </tr>\n",
       "    <tr>\n",
       "      <th>4</th>\n",
       "      <td>SCD0000501</td>\n",
       "      <td>SC-HF-I-6</td>\n",
       "    </tr>\n",
       "  </tbody>\n",
       "</table>\n",
       "</div>"
      ],
      "text/plain": [
       "   patient_id original_id\n",
       "0  SCD0000101   SC-HF-I-1\n",
       "1  SCD0000201   SC-HF-I-2\n",
       "2  SCD0000301   SC-HF-I-4\n",
       "3  SCD0000401   SC-HF-I-5\n",
       "4  SCD0000501   SC-HF-I-6"
      ]
     },
     "execution_count": 2,
     "metadata": {},
     "output_type": "execute_result"
    }
   ],
   "source": [
    "filename='/Users/joeDiHare/Documents/dataprep/dataprep/data/link.csv'\n",
    "df = pd.read_csv(filename)\n",
    "df.head()\n",
    "\n",
    "# with open(filename, newline='') as csvfile:\n",
    "#     subjID = csv.reader(csvfile, delimiter=' ', quotechar='|')\n",
    "#     for row in subjID:\n",
    "#         print(', '.join(row))\n",
    "\n",
    "# lstFilesDCM = []  # create an empty list\n",
    "# for dirName, subdirList, fileList in os.walk(PathDicom):\n",
    "#     for filename in fileList:\n",
    "#         if filename.endswith('.dcm'):  # check whether the file's DICOM\n",
    "#             lstFilesDCM.append(os.path.join(dirName, filename))\n"
   ]
  },
  {
   "cell_type": "code",
   "execution_count": 3,
   "metadata": {
    "ExecuteTime": {
     "end_time": "2017-10-24T20:58:25.943003Z",
     "start_time": "2017-10-24T13:58:25.927833-07:00"
    },
    "scrolled": true
   },
   "outputs": [],
   "source": [
    "filetxt='/Users/joeDiHare/Documents/dataprep/dataprep/data/contourfiles/'+df.original_id[0]+'/i-contours/IM-0001-0048-icontour-manual.txt'\n",
    "with open(filetxt, newline='') as csvfile:\n",
    "    subjID = csv.reader(csvfile, delimiter=' ', quotechar='|')\n",
    "#     for row in subjID:\n",
    "#         print(', '.join(row))\n",
    "filedicom = '/Users/joeDiHare/Documents/dataprep/dataprep/data/dicoms/'+df.patient_id[0]+'/48.dcm'\n",
    "import dicom as dicom\n",
    "# read the file\n",
    "ds = dicom.read_file(filedicom)\n",
    "# store the raw image data\n",
    "dicom_img = ds.pixel_array\n",
    "\n",
    "ConstPixelDims = (int(ds.Rows), int(ds.Columns), 1)\n",
    "\n",
    "# Load spacing values (in mm)\n",
    "ConstPixelSpacing = (float(ds.PixelSpacing[0]), float(ds.PixelSpacing[1]), float(ds.SliceThickness))\n",
    "\n",
    "# calculate axes for this array\n",
    "x = np.arange(0.0, (ConstPixelDims[0]+1)*ConstPixelSpacing[0], ConstPixelSpacing[0])\n",
    "y = np.arange(0.0, (ConstPixelDims[1]+1)*ConstPixelSpacing[1], ConstPixelSpacing[1])\n",
    "z = np.arange(0.0, (ConstPixelDims[2]+1)*ConstPixelSpacing[2], ConstPixelSpacing[2])\n",
    "\n",
    "plt.figure(dpi=300)\n",
    "plt.axes().set_aspect('equal', 'datalim')\n",
    "plt.set_cmap(plt.gray())\n",
    "plt.pcolormesh(x, y, np.flipud(dicom_img))\n",
    "plt.ylim([np.min(y), np.max(y)])\n",
    "plt.xlim([np.min(x), np.max(x)])\n",
    "# plt.plot(dicom_img)"
   ]
  },
  {
   "cell_type": "code",
   "execution_count": 5,
   "metadata": {
    "ExecuteTime": {
     "end_time": "2017-10-24T20:58:32.648264Z",
     "start_time": "2017-10-24T13:58:32.640340-07:00"
    }
   },
   "outputs": [
    {
     "data": {
      "text/plain": [
       "array([[False, False, False, ..., False, False, False],\n",
       "       [False, False, False, ..., False, False, False],\n",
       "       [False, False, False, ..., False, False, False],\n",
       "       ..., \n",
       "       [False, False, False, ..., False, False, False],\n",
       "       [False, False, False, ..., False, False, False],\n",
       "       [False, False, False, ..., False, False, False]], dtype=bool)"
      ]
     },
     "execution_count": 5,
     "metadata": {},
     "output_type": "execute_result"
    }
   ],
   "source": [
    "coord = parse_contour_file(filetxt)\n",
    "img, width, height = parse_dicom_file(filedicom)\n",
    "poly_to_mask(coord, width, height)"
   ]
  },
  {
   "cell_type": "code",
   "execution_count": 108,
   "metadata": {
    "ExecuteTime": {
     "end_time": "2017-10-24T20:51:21.959787Z",
     "start_time": "2017-10-24T13:51:21.954412-07:00"
    }
   },
   "outputs": [],
   "source": []
  },
  {
   "cell_type": "code",
   "execution_count": 64,
   "metadata": {
    "ExecuteTime": {
     "end_time": "2017-10-24T06:48:08.656240Z",
     "start_time": "2017-10-23T23:48:08.644626-07:00"
    }
   },
   "outputs": [],
   "source": [
    "d = dict()\n",
    "d2 = dict()\n",
    "d['1'] = {'i_contour': [2,3,4,5],\n",
    "           'o_contour': [2,3,4,5],\n",
    "           'mask' : [2,3,4,5],\n",
    "           'dicom': [2,3,4,5],\n",
    "           'attributes': {\n",
    "               'file_dicom': 'a',\n",
    "                    },\n",
    "         }\n",
    "d['2'] = {'i_contour': [2,3,4,5],\n",
    "           'o_contour': [2,3,4,5],\n",
    "           'mask' : [2,3,4,5],\n",
    "           'dicom': [2,3,4,5],\n",
    "           'attributes': {\n",
    "               'file_dicom': 'a',\n",
    "                    },\n",
    "         }\n",
    "\n",
    "d2['ID'] = d\n",
    "\n"
   ]
  },
  {
   "cell_type": "code",
   "execution_count": 98,
   "metadata": {
    "ExecuteTime": {
     "end_time": "2017-10-24T20:45:26.345385Z",
     "start_time": "2017-10-24T13:45:26.319376-07:00"
    }
   },
   "outputs": [
    {
     "name": "stdout",
     "output_type": "stream",
     "text": [
      "(0008, 0000) Group Length                        UL: 676\n",
      "(0008, 0005) Specific Character Set              CS: 'ISO_IR 100'\n",
      "(0008, 0008) Image Type                          CS: ['ORIGINAL', 'PRIMARY', 'CARDIAC', 'NONE']\n",
      "(0008, 0016) SOP Class UID                       UI: MR Image Storage\n",
      "(0008, 0018) SOP Instance UID                    UI: 2.16.124.113543.6006.99.3391139613699913089\n",
      "(0008, 0020) Study Date                          DA: '20120000'\n",
      "(0008, 0021) Series Date                         DA: '20120000'\n",
      "(0008, 0022) Acquisition Date                    DA: '20120000'\n",
      "(0008, 0023) Content Date                        DA: '20120000'\n",
      "(0008, 0030) Study Time                          TM: '083237.000000'\n",
      "(0008, 0031) Series Time                         TM: '083859'\n",
      "(0008, 0032) Acquisition Time                    TM: '084011.485317'\n",
      "(0008, 0033) Content Time                        TM: '084020.319653'\n",
      "(0008, 0050) Accession Number                    SH: ''\n",
      "(0008, 0060) Modality                            CS: 'MR'\n",
      "(0008, 0070) Manufacturer                        LO: 'GE MEDICAL SYSTEMS'\n",
      "(0008, 1030) Study Description                   LO: ''\n",
      "(0008, 103e) Series Description                  LO: ''\n",
      "(0008, 1090) Manufacturer's Model Name           LO: 'SIGNA HDx'\n",
      "(0008, 1110) Referenced Study Sequence           SQ: <Sequence, length 1, at 10C132098>\n",
      "(0008, 1111) Referenced Performed Procedure Step SQ: <Sequence, length 1, at 10C1322C8>\n",
      "(0008, 1120) Referenced Patient Sequence         SQ: <Sequence, length 1, at 10C132188>\n",
      "(0010, 0000) Group Length                        UL: 60\n",
      "(0010, 0010) Patient's Name                      PN: 'SCD0000101'\n",
      "(0010, 0020) Patient ID                          LO: 'SCD0000101'\n",
      "(0010, 0030) Patient's Birth Date                DA: '00000000'\n",
      "(0010, 0040) Patient's Sex                       CS: ''\n",
      "(0018, 0000) Group Length                        UL: 456\n",
      "(0018, 0020) Scanning Sequence                   CS: 'GR'\n",
      "(0018, 0021) Sequence Variant                    CS: 'SS'\n",
      "(0018, 0022) Scan Options                        CS: ['FAST_GEMS', 'SEQ_GEMS', 'CG']\n",
      "(0018, 0023) MR Acquisition Type                 CS: '2D'\n",
      "(0018, 0050) Slice Thickness                     DS: '10'\n",
      "(0018, 0080) Repetition Time                     DS: '3.349'\n",
      "(0018, 0081) Echo Time                           DS: '1.532'\n",
      "(0018, 0083) Number of Averages                  DS: '1'\n",
      "(0018, 0084) Imaging Frequency                   DS: '63.867423'\n",
      "(0018, 0085) Imaged Nucleus                      SH: '1H'\n",
      "(0018, 0086) Echo Number(s)                      IS: '1'\n",
      "(0018, 0087) Magnetic Field Strength             DS: '1.5'\n",
      "(0018, 0088) Spacing Between Slices              DS: '10'\n",
      "(0018, 0091) Echo Train Length                   IS: '1'\n",
      "(0018, 0093) Percent Sampling                    DS: '71.42857'\n",
      "(0018, 0094) Percent Phase Field of View         DS: '100'\n",
      "(0018, 0095) Pixel Bandwidth                     DS: '976.5625'\n",
      "(0018, 1000) Device Serial Number                LO: '48OwLe2NUfWk'\n",
      "(0018, 1020) Software Version(s)                 LO: ['14', 'MX', 'MR Software release:14.0_M4_0629.a']\n",
      "(0018, 1060) Trigger Time                        DS: '292.207764'\n",
      "(0018, 1062) Nominal Interval                    IS: '779'\n",
      "(0018, 1083) Intervals Acquired                  IS: '10'\n",
      "(0018, 1088) Heart Rate                          IS: '77'\n",
      "(0018, 1090) Cardiac Number of Images            IS: '20'\n",
      "(0018, 1100) Reconstruction Diameter             DS: '350'\n",
      "(0018, 1250) Receive Coil Name                   SH: '8CARDIAC'\n",
      "(0018, 1310) Acquisition Matrix                  US: [224, 0, 0, 224]\n",
      "(0018, 1312) In-plane Phase Encoding Direction   CS: 'COL'\n",
      "(0018, 1314) Flip Angle                          DS: '45'\n",
      "(0018, 1315) Variable Flip Angle Flag            CS: 'N'\n",
      "(0018, 1316) SAR                                 DS: '1.2763103'\n",
      "(0018, 5100) Patient Position                    CS: 'FFS'\n",
      "(0020, 0000) Group Length                        UL: 360\n",
      "(0020, 000d) Study Instance UID                  UI: 2.16.124.113543.6006.99.08980635789900778171\n",
      "(0020, 000e) Series Instance UID                 UI: 2.16.124.113543.6006.99.08975550791105350405\n",
      "(0020, 0010) Study ID                            SH: ''\n",
      "(0020, 0011) Series Number                       IS: '300'\n",
      "(0020, 0012) Acquisition Number                  IS: '1'\n",
      "(0020, 0013) Instance Number                     IS: '48'\n",
      "(0020, 0032) Image Position (Patient)            DS: ['176.111', '22.2895', '137.999']\n",
      "(0020, 0037) Image Orientation (Patient)         DS: ['-0.104592', '0.346381', '-0.932245', '-0.733192', '-0.660188', '-0.163037']\n",
      "(0020, 0052) Frame of Reference UID              UI: 2.16.124.113543.6006.99.3391407403420748857\n",
      "(0020, 0110) Temporal Resolution                 DS: '38961'\n",
      "(0020, 1002) Images in Acquisition               IS: '280'\n",
      "(0020, 1040) Position Reference Indicator        LO: ''\n",
      "(0020, 1041) Slice Location                      DS: '-30.072'\n",
      "(0020, 9153) Nominal Cardiac Trigger Delay Time  FD: 292.207763671875\n",
      "(0028, 0000) Group Length                        UL: 160\n",
      "(0028, 0002) Samples per Pixel                   US: 1\n",
      "(0028, 0004) Photometric Interpretation          CS: 'MONOCHROME2'\n",
      "(0028, 0010) Rows                                US: 256\n",
      "(0028, 0011) Columns                             US: 256\n",
      "(0028, 0030) Pixel Spacing                       DS: ['1.367188', '1.367188']\n",
      "(0028, 0100) Bits Allocated                      US: 16\n",
      "(0028, 0101) Bits Stored                         US: 16\n",
      "(0028, 0102) High Bit                            US: 15\n",
      "(0028, 0103) Pixel Representation                US: 1\n",
      "(0028, 0106) Smallest Image Pixel Value          US: 0\n",
      "(0028, 0107) Largest Image Pixel Value           US: 950\n",
      "(0028, 1050) Window Center                       DS: '684'\n",
      "(0028, 1051) Window Width                        DS: '1369'\n",
      "(0032, 0000) Group Length                        UL: 24\n",
      "(0032, 000a) Study Status ID                     CS: 'READ'\n",
      "(0032, 000c) Study Priority ID                   CS: 'LOW'\n",
      "(5200, 0000) Group Length                        UL: 20\n",
      "(5200, 9230) Per-frame Functional Groups Sequenc SQ: <Sequence, length 1, at 10C04A0E8>\n",
      "(7fe0, 0010) Pixel Data                          OW: Array of 131072 bytes\n"
     ]
    }
   ],
   "source": [
    "for key in ds:\n",
    "    print(key)"
   ]
  },
  {
   "cell_type": "code",
   "execution_count": 14,
   "metadata": {
    "ExecuteTime": {
     "end_time": "2017-10-25T00:48:01.217200Z",
     "start_time": "2017-10-24T17:48:01.210298-07:00"
    }
   },
   "outputs": [],
   "source": [
    "i_c = parse_contour_file('/Users/joeDiHare/Documents/dataprep/dataprep/data/contourfiles/'+df.original_id[0]+'/i-contours/IM-0001-0059-icontour-manual.txt')\n",
    "o_c = parse_contour_file('/Users/joeDiHare/Documents/dataprep/dataprep/data/contourfiles/'+df.original_id[0]+'/o-contours/IM-0001-0059-ocontour-manual.txt')"
   ]
  },
  {
   "cell_type": "code",
   "execution_count": 46,
   "metadata": {
    "ExecuteTime": {
     "end_time": "2017-10-24T05:23:52.017997Z",
     "start_time": "2017-10-23T22:23:51.845721-07:00"
    }
   },
   "outputs": [
    {
     "data": {
      "text/plain": [
       "[<matplotlib.lines.Line2D at 0x10bf974e0>]"
      ]
     },
     "execution_count": 46,
     "metadata": {},
     "output_type": "execute_result"
    },
    {
     "data": {
      "image/png": "[encoded data removed]",
      "text/plain": [
       "<matplotlib.figure.Figure at 0x10b72a208>"
      ]
     },
     "metadata": {},
     "output_type": "display_data"
    }
   ],
   "source": [
    "x, y , x2, y2 = [], [], [], []\n",
    "for n in range(len(i_c)):\n",
    "    x.append(i_c[n][0])\n",
    "    y.append(i_c[n][1])\n",
    "for n in range(len(o_c)):    \n",
    "    x2.append(o_c[n][0])\n",
    "    y2.append(o_c[n][1])    \n",
    "plt.plot(x,y)\n",
    "plt.plot(x2,y2)"
   ]
  },
  {
   "cell_type": "code",
   "execution_count": 57,
   "metadata": {
    "ExecuteTime": {
     "end_time": "2017-10-24T06:27:26.896783Z",
     "start_time": "2017-10-23T23:27:26.892558-07:00"
    }
   },
   "outputs": [
    {
     "data": {
      "text/plain": [
       "'59'"
      ]
     },
     "execution_count": 57,
     "metadata": {},
     "output_type": "execute_result"
    }
   ],
   "source": [
    "s='IM-0001-0059-icontour-manual.txt'\n",
    "s.split('-')[2].strip('0')"
   ]
  },
  {
   "cell_type": "code",
   "execution_count": 20,
   "metadata": {
    "ExecuteTime": {
     "end_time": "2017-10-25T00:49:21.955605Z",
     "start_time": "2017-10-24T17:49:21.951029-07:00"
    }
   },
   "outputs": [],
   "source": [
    "i_c = np.abs(np.asarray(i_c))\n",
    "o_c = np.abs(np.asarray(o_c))\n",
    "    "
   ]
  }
 ],
 "metadata": {
  "hide_input": false,
  "kernelspec": {
   "display_name": "Python 3",
   "language": "python",
   "name": "python3"
  },
  "language_info": {
   "codemirror_mode": {
    "name": "ipython",
    "version": 3
   },
   "file_extension": ".py",
   "mimetype": "text/x-python",
   "name": "python",
   "nbconvert_exporter": "python",
   "pygments_lexer": "ipython3",
   "version": "3.4.4"
  }
 },
 "nbformat": 4,
 "nbformat_minor": 2
}
